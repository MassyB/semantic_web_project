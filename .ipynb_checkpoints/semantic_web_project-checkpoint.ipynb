{
 "cells": [
  {
   "cell_type": "markdown",
   "metadata": {},
   "source": [
    "# Semantic Web Project"
   ]
  },
  {
   "cell_type": "code",
   "execution_count": 37,
   "metadata": {
    "collapsed": true
   },
   "outputs": [],
   "source": [
    "import re\n",
    "import requests"
   ]
  },
  {
   "cell_type": "markdown",
   "metadata": {},
   "source": [
    "The query is"
   ]
  },
  {
   "cell_type": "code",
   "execution_count": 38,
   "metadata": {
    "collapsed": true
   },
   "outputs": [],
   "source": [
    "query = \"What are the drama movies nearby me\""
   ]
  },
  {
   "cell_type": "markdown",
   "metadata": {},
   "source": [
    "## Query analysis : extract the category and the position"
   ]
  },
  {
   "cell_type": "markdown",
   "metadata": {},
   "source": [
    "### the Category"
   ]
  },
  {
   "cell_type": "code",
   "execution_count": 39,
   "metadata": {
    "collapsed": false
   },
   "outputs": [
    {
     "name": "stdout",
     "output_type": "stream",
     "text": [
      "the category of movies searched for is drama\n"
     ]
    }
   ],
   "source": [
    "category = \"\" ## the variable that holds the category\n",
    "categoryRegEx = re.compile(r'What are the (?P<category>\\w+).*') ##use a regEx\n",
    "\n",
    "matchObj = categoryRegEx.match(query)\n",
    "if matchObj:\n",
    "    category = matchObj.group(\"category\")\n",
    "    \n",
    "print(\"the category of movies searched for is \"+ category)"
   ]
  },
  {
   "cell_type": "markdown",
   "metadata": {},
   "source": [
    "### the position \n",
    "choose one position randomly"
   ]
  },
  {
   "cell_type": "code",
   "execution_count": 40,
   "metadata": {
    "collapsed": false
   },
   "outputs": [
    {
     "name": "stdout",
     "output_type": "stream",
     "text": [
      "the choosen position is Turkey\n",
      "\n",
      "{'lat': 41.05, 'add': \"Teşvikiye Cad. City's Nişantaşı Alışveriş Merkezi No:162, 34204 İstanbul, Turquie\", 'long': 28.99}\n"
     ]
    }
   ],
   "source": [
    "import random\n",
    "\n",
    "positions = {\n",
    "    \"France\": {\"lat\": 48.82, \"long\": 2.34, \"add\": \"212 Rue de Tolbiac\"},\n",
    "    \"Serbia\" : {\"lat\": 44.80, \"long\":20.40, \"add\": \"Jurija Gagarina 16-16a, Beograd 11070, Serbie\"}, \n",
    "    \"Turkey\": {\"lat\": 41.05, \"long\": 28.99, \"add\": \"Teşvikiye Cad. City's Nişantaşı Alışveriş Merkezi No:162, 34204 İstanbul, Turquie\" } \n",
    "}\n",
    "\n",
    "## positionKey = random.choice( list(positions.keys()) ) #choose a position \n",
    "positionKey = \"France\"\n",
    "position = positions[positionKey]\n",
    "\n",
    "\n",
    "\n",
    "print(\"the choosen position is \" + positionKey+ \"\\n\")\n",
    "print(position)"
   ]
  },
  {
   "cell_type": "markdown",
   "metadata": {},
   "source": [
    "## Search For individuals\n",
    "### Theaters close to `position`"
   ]
  },
  {
   "cell_type": "code",
   "execution_count": 41,
   "metadata": {
    "collapsed": false
   },
   "outputs": [
    {
     "name": "stdout",
     "output_type": "stream",
     "text": [
      "Response HTTP Status Code: 200\n",
      "Response HTTP Response Body: \n",
      "\n",
      "{'cinemas': []}\n"
     ]
    }
   ],
   "source": [
    "from showtimes import getTheatersCloseTo\n",
    "import json\n",
    "\n",
    "distance = 5 ## theaters are considered close if they are at most 5 KMs away from Position p.\n",
    "\n",
    "theaters =  getTheatersCloseTo(position,distance)[\"cinemas\"]"
   ]
  },
  {
   "cell_type": "code",
   "execution_count": 42,
   "metadata": {
    "collapsed": false
   },
   "outputs": [
    {
     "name": "stdout",
     "output_type": "stream",
     "text": [
      "the number of theaters obtained is 0\n"
     ]
    }
   ],
   "source": [
    "print(\"the number of theaters obtained is {}\".format(len(theaters)))"
   ]
  },
  {
   "cell_type": "markdown",
   "metadata": {},
   "source": [
    "### `movies` that are playing in those theaters and are of category `category`"
   ]
  },
  {
   "cell_type": "code",
   "execution_count": 43,
   "metadata": {
    "collapsed": false
   },
   "outputs": [
    {
     "data": {
      "text/plain": [
       "[]"
      ]
     },
     "execution_count": 43,
     "metadata": {},
     "output_type": "execute_result"
    }
   ],
   "source": [
    "from showtimes import getMoviesPlayedInTheaters\n",
    "\n",
    "movies = getMoviesPlayedInTheaters(theaters, category)\n",
    "movies"
   ]
  },
  {
   "cell_type": "code",
   "execution_count": 44,
   "metadata": {
    "collapsed": false
   },
   "outputs": [
    {
     "name": "stdout",
     "output_type": "stream",
     "text": [
      "there are 0 movies found\n"
     ]
    }
   ],
   "source": [
    "print(\"there are {} movies found\".format(str(len(movies))))"
   ]
  },
  {
   "cell_type": "markdown",
   "metadata": {},
   "source": [
    "## Result"
   ]
  },
  {
   "cell_type": "code",
   "execution_count": 45,
   "metadata": {
    "collapsed": false
   },
   "outputs": [],
   "source": [
    "for movie in movies :\n",
    "    if movie[\"title\"] is not None:    \n",
    "        print(movie[\"title\"] )\n",
    "    else:\n",
    "        if movie[\"slug\"] is not None:\n",
    "            print(movie[\"slug\"].replace('-',' '))"
   ]
  },
  {
   "cell_type": "code",
   "execution_count": null,
   "metadata": {
    "collapsed": true
   },
   "outputs": [],
   "source": []
  }
 ],
 "metadata": {
  "kernelspec": {
   "display_name": "Python [conda root]",
   "language": "python",
   "name": "conda-root-py"
  },
  "language_info": {
   "codemirror_mode": {
    "name": "ipython",
    "version": 3
   },
   "file_extension": ".py",
   "mimetype": "text/x-python",
   "name": "python",
   "nbconvert_exporter": "python",
   "pygments_lexer": "ipython3",
   "version": "3.5.2"
  }
 },
 "nbformat": 4,
 "nbformat_minor": 1
}
